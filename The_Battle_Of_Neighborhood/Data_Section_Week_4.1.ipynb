{
 "cells": [
  {
   "cell_type": "markdown",
   "metadata": {},
   "source": [
    "## Capstone Project: The Battle of Neighborhood\n",
    "\n",
    "### Week 1: Description of Data associated with the Project.\n",
    "\n",
    "***"
   ]
  },
  {
   "cell_type": "markdown",
   "metadata": {},
   "source": [
    "### Data Requirement and its Usage"
   ]
  },
  {
   "cell_type": "markdown",
   "metadata": {},
   "source": [
    "* New York City's data which contains list of Boroughs, Neighborhoods, latitudes and longitudes.\n",
    "    \n",
    "    **Data source :** https://cocl.us/new_york_dataset\n",
    "\n",
    "    **Usage :** This dataset will be used to explore boroughs, neighborhoods, latitude and longitude of new york city.\n",
    "\n",
    "\n",
    "* To identify Indian resturants in each neighborhood of new york city.\n",
    "\n",
    "    **Data source :** Foursquare API\n",
    "\n",
    "    **Usage :** This api is used to identify all venues in each neighborhood of New York city which in turn will be filtered to extract Indian Restraunts only.\n",
    "\n",
    "\n",
    "* GeoSpace data\n",
    "\n",
    "    **Data source :** https://data.cityofnewyork.us/City-Government/Borough-Boundaries/tqmj-j8zm\n",
    "\n",
    "    **Usage :** : Geo Space data will be used to get the Borough boundaries of New York which will help us in visualizing Choropleth Map."
   ]
  },
  {
   "cell_type": "markdown",
   "metadata": {},
   "source": [
    "### Methodology / Working Process"
   ]
  },
  {
   "cell_type": "markdown",
   "metadata": {},
   "source": [
    "* Extract New York City Data which specify all boroughs, neighborhoods, latitudes and longitudes.\n",
    "* Using FourSquare API to get all venues for all neighborhoods.\n",
    "* Filter venues to extract only Indian Restraunts.\n",
    "* Find Ratings/Like Counts for each Indian Restraunt.\n",
    "* Visualize the Ranking of Restraunts using Folium Library.\n",
    "* Finding Best Indian Restraunts."
   ]
  },
  {
   "cell_type": "code",
   "execution_count": null,
   "metadata": {},
   "outputs": [],
   "source": []
  }
 ],
 "metadata": {
  "kernelspec": {
   "display_name": "Python 3",
   "language": "python",
   "name": "python3"
  },
  "language_info": {
   "codemirror_mode": {
    "name": "ipython",
    "version": 3
   },
   "file_extension": ".py",
   "mimetype": "text/x-python",
   "name": "python",
   "nbconvert_exporter": "python",
   "pygments_lexer": "ipython3",
   "version": "3.7.6"
  }
 },
 "nbformat": 4,
 "nbformat_minor": 2
}
