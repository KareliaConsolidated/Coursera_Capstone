{
 "cells": [
  {
   "cell_type": "markdown",
   "metadata": {},
   "source": [
    "## Capstone Project: The Battle of Neighborhood\n",
    "\n",
    "### Week 1: Description and Background of the Problem associated with the Project.\n",
    "\n",
    "***"
   ]
  },
  {
   "cell_type": "markdown",
   "metadata": {},
   "source": [
    "### 1. Introduction / Business Problem"
   ]
  },
  {
   "cell_type": "markdown",
   "metadata": {},
   "source": [
    "New York City often called as City of New York, is the most populous city in United States. With an estimated 2018 population of 8,398,748 distributed over about 302.6 square miles (784 km2).\n",
    "\n",
    "New York is often considered one of the greatest cultural hubs in the country, having welcomed immigrants long before the days of Ellis Island. Immigrants now account for one-fifth of the state’s total population and make up a staggering 25 percent of its labor force. As workers, business owners, taxpayers, and neighbors, immigrants are an integral part of New York’s diverse and thriving communities and make extensive contributions that benefit all. \n",
    "\n",
    "**FACT : One in five New Yorkers is an immigrant.**\n",
    "\n",
    "Indians in the New York City metropolitan region constitute one of the largest and fastest growing ethnicities in the New York City metropolitan area of the United States. \n",
    "\n",
    "**FACT : New York City was home to 64 percent of New York State's Indian residents.**\n",
    "\n",
    "New York City is composed of five boroughs, each of which is a county of the State of New York. The five boroughs–Brooklyn, Queens, Manhattan, the Bronx, and Staten Island–were consolidated into a single city\n",
    "\n",
    "<img src=\"images/Percentage of Indian American in Newyork.JPG\">\n",
    "\n",
    "**Food Culture in New York City:** Due to such huge number of immigrants in New York, we can see diversity in Food Culture as well. In 2018, there were over 27,000 restaurants in New York. \n",
    "\n",
    "In this Project, I would like to explore **Indian Restaurants** in all the parts of New York City."
   ]
  },
  {
   "cell_type": "code",
   "execution_count": null,
   "metadata": {},
   "outputs": [],
   "source": []
  }
 ],
 "metadata": {
  "kernelspec": {
   "display_name": "Python 3",
   "language": "python",
   "name": "python3"
  },
  "language_info": {
   "codemirror_mode": {
    "name": "ipython",
    "version": 3
   },
   "file_extension": ".py",
   "mimetype": "text/x-python",
   "name": "python",
   "nbconvert_exporter": "python",
   "pygments_lexer": "ipython3",
   "version": "3.7.6"
  }
 },
 "nbformat": 4,
 "nbformat_minor": 2
}
